{
  "nbformat": 4,
  "nbformat_minor": 0,
  "metadata": {
    "colab": {
      "provenance": [],
      "collapsed_sections": []
    },
    "kernelspec": {
      "name": "python3",
      "display_name": "Python 3"
    },
    "language_info": {
      "name": "python"
    },
    "accelerator": "GPU",
    "gpuClass": "standard"
  },
  "cells": [
    {
      "cell_type": "markdown",
      "metadata": {
        "id": "view-in-github"
      },
      "source": [
        "<a href=\"https://colab.research.google.com/github/psriraj17/sentiment_analysis/blob/main/sentiment_analysis_NB_nltk.ipynb\" target=\"_parent\"><img src=\"https://colab.research.google.com/assets/colab-badge.svg\" alt=\"Open In Colab\"/></a>"
      ]
    },
    {
      "cell_type": "code",
      "execution_count": 31,
      "metadata": {
        "id": "4Tq-t5c22LN6",
        "colab": {
          "base_uri": "https://localhost:8080/"
        },
        "outputId": "8caab018-d0f0-49f1-da63-f2557e265f18"
      },
      "outputs": [
        {
          "output_type": "stream",
          "name": "stdout",
          "text": [
            "Looking in indexes: https://pypi.org/simple, https://us-python.pkg.dev/colab-wheels/public/simple/\n",
            "Requirement already satisfied: emot in /usr/local/lib/python3.7/dist-packages (3.1)\n"
          ]
        }
      ],
      "source": [
        "#The following given below are the predefined libraries of python. We have imported various libraries like Pandas, Numpy and a lot of other algorithm libraries too. \n",
        "#These libraries are used iteratively to reduce the time required to code.\n",
        "import pandas as pd\n",
        "import io\n",
        "import numpy as np\n",
        "import re\n",
        "import pickle\n",
        "import nltk\n",
        "import string\n",
        "from nltk.tokenize import RegexpTokenizer\n",
        "import nltk\n",
        "from sklearn.model_selection import train_test_split\n",
        "from sklearn.feature_extraction.text import TfidfVectorizer\n",
        "import sklearn\n",
        "from sklearn import naive_bayes\n",
        "!pip install emot\n",
        "import re\n",
        "import pickle\n",
        "from emot.emo_unicode import UNICODE_EMOJI\n",
        "from emot.emo_unicode import EMOTICONS_EMO"
      ]
    },
    {
      "cell_type": "code",
      "source": [
        "#mounting google drive\n",
        "from google.colab import drive\n",
        "drive.mount('/content/drive')\n",
        "%cd /content/drive/'MyDrive'\n",
        "%ls"
      ],
      "metadata": {
        "colab": {
          "base_uri": "https://localhost:8080/"
        },
        "id": "kkXFmwWLNDcJ",
        "outputId": "52469bbc-8f1b-4b96-cca2-b7991f62ae8e"
      },
      "execution_count": 3,
      "outputs": [
        {
          "output_type": "stream",
          "name": "stdout",
          "text": [
            "Drive already mounted at /content/drive; to attempt to forcibly remount, call drive.mount(\"/content/drive\", force_remount=True).\n",
            "/content/drive/MyDrive\n",
            "'10 22 2021.gdoc'\n",
            "'An Intelligent System for Waste Materials Segregation Using IoT and Deep Learning.pdf'\n",
            " baby.jpeg\n",
            " bigdata_project.gslides\n",
            " breast-cancer.data\n",
            "'car (1).data'\n",
            " checkmodel.h5\n",
            " CN2_screenshot.gdoc\n",
            " CN_Homework1.gdoc\n",
            "'CN_Homework 2.gdoc'\n",
            " CN_homework3.gdoc\n",
            " CN_pipeline.gdoc\n",
            "\u001b[0m\u001b[01;34m'Colab Notebooks'\u001b[0m/\n",
            "'COMPUTER VISION ASSIGNMENT 3.gdoc'\n",
            "\u001b[01;36m'Copy of Pepsi and Vending Refund Request.gform'\u001b[0m@\n",
            "'Copy of Pepsi and Vending Refund Request OLD.gform'\n",
            "'Copy of Pepsi and Vending Refunds (Responses) OLD.gsheet'\n",
            "\u001b[01;36m'Copy of Student Development Bank Deposit Form.gform'\u001b[0m@\n",
            "'CSO Reimbursement Request Form - Pending.gsheet'\n",
            "'CV - 0121.gdoc'\n",
            " CV_FinalProject.gdoc\n",
            "'Data Science Notes.gdoc'\n",
            "\u001b[01;34m'Deep Learning Notebooks'\u001b[0m/\n",
            " DL_Project_GI_Tracking.gslides\n",
            " ecoli.data\n",
            "'Emma Project.gdoc'\n",
            "'Emma Research Project.gdoc'\n",
            "\u001b[01;34m'E(mpower) Funds Request Form (File responses)'\u001b[0m/\n",
            "\u001b[01;36m'E(mpower) Funds Request Form.gform'\u001b[0m@\n",
            "'English Blurbs summary.gdoc'\n",
            "'Example Stories.gdoc'\n",
            "'final .gslides'\n",
            " final_practice.csv\n",
            "'Final project Report (1).pdf'\n",
            "'Final project Report.pdf'\n",
            "'Final Report.gdoc'\n",
            " flower.webp\n",
            " \u001b[01;34mgi_images\u001b[0m/\n",
            " graphite_ispraak.php.gdoc\n",
            " Homework03.ipynb\n",
            " Homework05_partII_test.csv\n",
            " Homework05_partII_train.csv\n",
            " Homework3.ipynb\n",
            " homework4_report.gdoc\n",
            "'https:  docs.google.com spreadsheets u 0 ?authuser=0&usp=sheets_webPepsi and Vending Refund Request (Responses).gsheet'\n",
            "'Hyperparameter Tuning.gdoc'\n",
            " IMG_3326.HEIC\n",
            "'Installing PyAudio in MAC.gdoc'\n",
            "'Intrusion Detection in Computer Networks Using Hybrid Machine Learning Techniques.gslides'\n",
            " \u001b[01;34mIspraak\u001b[0m/\n",
            " KDDTest-21.csv\n",
            " KDDTest-21.txt\n",
            " KDDTest-.csv\n",
            " KDDTest+.txt\n",
            " KDDTrain-.csv\n",
            " KDDTrain+.txt\n",
            "'List of Characters.gdoc'\n",
            " messi.jpeg\n",
            " \u001b[01;34mNLP\u001b[0m/\n",
            " Paper.pdf\n",
            " Plotting_Correlation_HeatMap.jpg\n",
            "\u001b[01;34m'Procurement Requests (File responses)'\u001b[0m/\n",
            "\u001b[01;36m'Procurement Requests.gform'\u001b[0m@\n",
            " PSD.gdoc\n",
            "\u001b[01;34m'RA- Jie Hou'\u001b[0m/\n",
            " readmecn2.gdoc\n",
            " RealState.csv\n",
            " Research_JieHou.gslides\n",
            "'Research Project_CN.gdoc'\n",
            "'Screen Recording 2022-03-10 at 2.07.50 PM.mov'\n",
            "'sentiment analysis.ipynb'\n",
            " \u001b[01;34mShareddrives\u001b[0m/\n",
            " SMSSpamCollection\n",
            "'spanish blurbs.gdoc'\n",
            " SPECT.test\n",
            " SPECT.train\n",
            "\u001b[01;34m'Student Development Bank Deposit Request Form (File responses)'\u001b[0m/\n",
            "\u001b[01;34m'Student Development Bank Deposit Request Form (File responses) (1)'\u001b[0m/\n",
            "'Student Development Bank Deposit Request Form.gform'\n",
            " \u001b[01;34mtest\u001b[0m/\n",
            " Test.csv\n",
            " \u001b[01;34mtesting\u001b[0m/\n",
            " test.tsv\n",
            "'The Museum Project.gdoc'\n",
            " \u001b[01;34mtrain\u001b[0m/\n",
            " Train.csv\n",
            " train_gi.csv\n",
            " \u001b[01;34mtraining\u001b[0m/\n",
            "'train-v2 (1).tsv'\n",
            "'train-v2 (2).tsv'\n",
            "'train-v2 2.tsv'\n",
            "'train-v2 (3).tsv'\n",
            "'train-v2 (4).tsv'\n",
            "'train-v2 (5).tsv'\n",
            "'train-v2 (6).tsv'\n",
            " train-v2.tsv\n",
            " transfusion.data\n",
            "'transliteration apps.gdoc'\n",
            "'Transliteration apps.gdoc'\n",
            "'transliteration sets not working.gdoc'\n",
            " Untitled0.ipynb\n",
            " Untitled1.ipynb\n",
            "'Untitled Diagram.drawio'\n",
            "'Untitled document (10).gdoc'\n",
            "'Untitled document (11).gdoc'\n",
            "'Untitled document (12).gdoc'\n",
            "'Untitled document (1).gdoc'\n",
            "'Untitled document (2).gdoc'\n",
            "'Untitled document (3).gdoc'\n",
            "'Untitled document (4).gdoc'\n",
            "'Untitled document (5).gdoc'\n",
            "'Untitled document (6).gdoc'\n",
            "'Untitled document (7).gdoc'\n",
            "'Untitled document (8).gdoc'\n",
            "'Untitled document (9).gdoc'\n",
            "'Untitled document.gdoc'\n",
            "'Untitled presentation (1).gslides'\n",
            "'Untitled presentation.gslides'\n",
            " Valid.csv\n",
            " Vijay_photo.jpg\n",
            " VijayVarshini_LakshmiNarayanan_Resume_Fall2022.pdf\n",
            " VijayVarshini_LakshmiNarayanan_Resume_Summer2022.pdf\n",
            "'VijayVarshini_LakshmiNarayanan_SIGNED Internship Agreement_05-03-2022.pdf'\n",
            "'VijayVarshini_LakshmiNarayanan_SIGNED Legal Agreement_05-03-2022.pdf'\n",
            "'VijayVarshini_LakshmiNarayanan_SIGNED Media Release_05-03-2022.pdf'\n",
            " vijayvarshini_lakshminatayanan_resume_fall_2022.pdf\n",
            " vijayvarshini_lakshminatayanan_resume_summer_2022.pdf\n",
            " VV.pdf\n",
            " zoom_0.mp4\n",
            " zoom_1.mp4\n",
            "\u001b[01;34m'Zoom Video'\u001b[0m/\n"
          ]
        }
      ]
    },
    {
      "cell_type": "code",
      "source": [
        "#Loading and reading the dataset\n",
        "import csv\n",
        "train_df = pd.read_csv('train-v2.tsv', sep=\"\\t\", header=None, quoting = csv.QUOTE_NONE)\n",
        "train_df.head()"
      ],
      "metadata": {
        "colab": {
          "base_uri": "https://localhost:8080/",
          "height": 206
        },
        "id": "B00eTbte2YtM",
        "outputId": "b6e8218f-78f4-4a78-b923-60323a546bb9"
      },
      "execution_count": 4,
      "outputs": [
        {
          "output_type": "execute_result",
          "data": {
            "text/plain": [
              "   0                                                  1\n",
              "0  0  @USER @USER a sicrhau bod mwy o arian poced 'd...\n",
              "1  1  Parti Dolig da gyda tim swyddfa canolog @USER ...\n",
              "2  0               @USER yeaah ma fe yn wir. ( oh well.\n",
              "3  1               @USER hahaha idk. 3am oedd y bws ti?\n",
              "4  0                      @USER dwim yn gal llun ohoni?"
            ],
            "text/html": [
              "\n",
              "  <div id=\"df-bde7150a-8bc7-4c23-9490-5b2ed97f486a\">\n",
              "    <div class=\"colab-df-container\">\n",
              "      <div>\n",
              "<style scoped>\n",
              "    .dataframe tbody tr th:only-of-type {\n",
              "        vertical-align: middle;\n",
              "    }\n",
              "\n",
              "    .dataframe tbody tr th {\n",
              "        vertical-align: top;\n",
              "    }\n",
              "\n",
              "    .dataframe thead th {\n",
              "        text-align: right;\n",
              "    }\n",
              "</style>\n",
              "<table border=\"1\" class=\"dataframe\">\n",
              "  <thead>\n",
              "    <tr style=\"text-align: right;\">\n",
              "      <th></th>\n",
              "      <th>0</th>\n",
              "      <th>1</th>\n",
              "    </tr>\n",
              "  </thead>\n",
              "  <tbody>\n",
              "    <tr>\n",
              "      <th>0</th>\n",
              "      <td>0</td>\n",
              "      <td>@USER @USER a sicrhau bod mwy o arian poced 'd...</td>\n",
              "    </tr>\n",
              "    <tr>\n",
              "      <th>1</th>\n",
              "      <td>1</td>\n",
              "      <td>Parti Dolig da gyda tim swyddfa canolog @USER ...</td>\n",
              "    </tr>\n",
              "    <tr>\n",
              "      <th>2</th>\n",
              "      <td>0</td>\n",
              "      <td>@USER yeaah ma fe yn wir. ( oh well.</td>\n",
              "    </tr>\n",
              "    <tr>\n",
              "      <th>3</th>\n",
              "      <td>1</td>\n",
              "      <td>@USER hahaha idk. 3am oedd y bws ti?</td>\n",
              "    </tr>\n",
              "    <tr>\n",
              "      <th>4</th>\n",
              "      <td>0</td>\n",
              "      <td>@USER dwim yn gal llun ohoni?</td>\n",
              "    </tr>\n",
              "  </tbody>\n",
              "</table>\n",
              "</div>\n",
              "      <button class=\"colab-df-convert\" onclick=\"convertToInteractive('df-bde7150a-8bc7-4c23-9490-5b2ed97f486a')\"\n",
              "              title=\"Convert this dataframe to an interactive table.\"\n",
              "              style=\"display:none;\">\n",
              "        \n",
              "  <svg xmlns=\"http://www.w3.org/2000/svg\" height=\"24px\"viewBox=\"0 0 24 24\"\n",
              "       width=\"24px\">\n",
              "    <path d=\"M0 0h24v24H0V0z\" fill=\"none\"/>\n",
              "    <path d=\"M18.56 5.44l.94 2.06.94-2.06 2.06-.94-2.06-.94-.94-2.06-.94 2.06-2.06.94zm-11 1L8.5 8.5l.94-2.06 2.06-.94-2.06-.94L8.5 2.5l-.94 2.06-2.06.94zm10 10l.94 2.06.94-2.06 2.06-.94-2.06-.94-.94-2.06-.94 2.06-2.06.94z\"/><path d=\"M17.41 7.96l-1.37-1.37c-.4-.4-.92-.59-1.43-.59-.52 0-1.04.2-1.43.59L10.3 9.45l-7.72 7.72c-.78.78-.78 2.05 0 2.83L4 21.41c.39.39.9.59 1.41.59.51 0 1.02-.2 1.41-.59l7.78-7.78 2.81-2.81c.8-.78.8-2.07 0-2.86zM5.41 20L4 18.59l7.72-7.72 1.47 1.35L5.41 20z\"/>\n",
              "  </svg>\n",
              "      </button>\n",
              "      \n",
              "  <style>\n",
              "    .colab-df-container {\n",
              "      display:flex;\n",
              "      flex-wrap:wrap;\n",
              "      gap: 12px;\n",
              "    }\n",
              "\n",
              "    .colab-df-convert {\n",
              "      background-color: #E8F0FE;\n",
              "      border: none;\n",
              "      border-radius: 50%;\n",
              "      cursor: pointer;\n",
              "      display: none;\n",
              "      fill: #1967D2;\n",
              "      height: 32px;\n",
              "      padding: 0 0 0 0;\n",
              "      width: 32px;\n",
              "    }\n",
              "\n",
              "    .colab-df-convert:hover {\n",
              "      background-color: #E2EBFA;\n",
              "      box-shadow: 0px 1px 2px rgba(60, 64, 67, 0.3), 0px 1px 3px 1px rgba(60, 64, 67, 0.15);\n",
              "      fill: #174EA6;\n",
              "    }\n",
              "\n",
              "    [theme=dark] .colab-df-convert {\n",
              "      background-color: #3B4455;\n",
              "      fill: #D2E3FC;\n",
              "    }\n",
              "\n",
              "    [theme=dark] .colab-df-convert:hover {\n",
              "      background-color: #434B5C;\n",
              "      box-shadow: 0px 1px 3px 1px rgba(0, 0, 0, 0.15);\n",
              "      filter: drop-shadow(0px 1px 2px rgba(0, 0, 0, 0.3));\n",
              "      fill: #FFFFFF;\n",
              "    }\n",
              "  </style>\n",
              "\n",
              "      <script>\n",
              "        const buttonEl =\n",
              "          document.querySelector('#df-bde7150a-8bc7-4c23-9490-5b2ed97f486a button.colab-df-convert');\n",
              "        buttonEl.style.display =\n",
              "          google.colab.kernel.accessAllowed ? 'block' : 'none';\n",
              "\n",
              "        async function convertToInteractive(key) {\n",
              "          const element = document.querySelector('#df-bde7150a-8bc7-4c23-9490-5b2ed97f486a');\n",
              "          const dataTable =\n",
              "            await google.colab.kernel.invokeFunction('convertToInteractive',\n",
              "                                                     [key], {});\n",
              "          if (!dataTable) return;\n",
              "\n",
              "          const docLinkHtml = 'Like what you see? Visit the ' +\n",
              "            '<a target=\"_blank\" href=https://colab.research.google.com/notebooks/data_table.ipynb>data table notebook</a>'\n",
              "            + ' to learn more about interactive tables.';\n",
              "          element.innerHTML = '';\n",
              "          dataTable['output_type'] = 'display_data';\n",
              "          await google.colab.output.renderOutput(dataTable, element);\n",
              "          const docLink = document.createElement('div');\n",
              "          docLink.innerHTML = docLinkHtml;\n",
              "          element.appendChild(docLink);\n",
              "        }\n",
              "      </script>\n",
              "    </div>\n",
              "  </div>\n",
              "  "
            ]
          },
          "metadata": {},
          "execution_count": 4
        }
      ]
    },
    {
      "cell_type": "code",
      "source": [
        "#Renaming the column names to Target and Text to ensure better readability.\n",
        "train_df.rename(columns={0: 'Target', 1: 'Text'}, inplace=True)\n",
        "train_df"
      ],
      "metadata": {
        "colab": {
          "base_uri": "https://localhost:8080/",
          "height": 424
        },
        "id": "9o67UP7_2Yq0",
        "outputId": "5cfb6799-0ddd-47e5-b64a-8bb0bd99239f"
      },
      "execution_count": 5,
      "outputs": [
        {
          "output_type": "execute_result",
          "data": {
            "text/plain": [
              "       Target                                               Text\n",
              "0           0  @USER @USER a sicrhau bod mwy o arian poced 'd...\n",
              "1           1  Parti Dolig da gyda tim swyddfa canolog @USER ...\n",
              "2           0               @USER yeaah ma fe yn wir. ( oh well.\n",
              "3           1               @USER hahaha idk. 3am oedd y bws ti?\n",
              "4           0                      @USER dwim yn gal llun ohoni?\n",
              "...       ...                                                ...\n",
              "79995       1  @USER @USER diolch yn fawr am ein diweddaru, r...\n",
              "79996       1  @USER @USER @USER diolch! Digon o opsiynne felly!\n",
              "79997       0                              mor hungover heddiw 🔫\n",
              "79998       1  @USER eidiaaaal, awni dydd llun nesa ia? Y air...\n",
              "79999       0  @USER ahaha, aino maisho mynadd! Erm o be dwin...\n",
              "\n",
              "[80000 rows x 2 columns]"
            ],
            "text/html": [
              "\n",
              "  <div id=\"df-2bbd6f4e-88ee-42df-9bec-0e570c293572\">\n",
              "    <div class=\"colab-df-container\">\n",
              "      <div>\n",
              "<style scoped>\n",
              "    .dataframe tbody tr th:only-of-type {\n",
              "        vertical-align: middle;\n",
              "    }\n",
              "\n",
              "    .dataframe tbody tr th {\n",
              "        vertical-align: top;\n",
              "    }\n",
              "\n",
              "    .dataframe thead th {\n",
              "        text-align: right;\n",
              "    }\n",
              "</style>\n",
              "<table border=\"1\" class=\"dataframe\">\n",
              "  <thead>\n",
              "    <tr style=\"text-align: right;\">\n",
              "      <th></th>\n",
              "      <th>Target</th>\n",
              "      <th>Text</th>\n",
              "    </tr>\n",
              "  </thead>\n",
              "  <tbody>\n",
              "    <tr>\n",
              "      <th>0</th>\n",
              "      <td>0</td>\n",
              "      <td>@USER @USER a sicrhau bod mwy o arian poced 'd...</td>\n",
              "    </tr>\n",
              "    <tr>\n",
              "      <th>1</th>\n",
              "      <td>1</td>\n",
              "      <td>Parti Dolig da gyda tim swyddfa canolog @USER ...</td>\n",
              "    </tr>\n",
              "    <tr>\n",
              "      <th>2</th>\n",
              "      <td>0</td>\n",
              "      <td>@USER yeaah ma fe yn wir. ( oh well.</td>\n",
              "    </tr>\n",
              "    <tr>\n",
              "      <th>3</th>\n",
              "      <td>1</td>\n",
              "      <td>@USER hahaha idk. 3am oedd y bws ti?</td>\n",
              "    </tr>\n",
              "    <tr>\n",
              "      <th>4</th>\n",
              "      <td>0</td>\n",
              "      <td>@USER dwim yn gal llun ohoni?</td>\n",
              "    </tr>\n",
              "    <tr>\n",
              "      <th>...</th>\n",
              "      <td>...</td>\n",
              "      <td>...</td>\n",
              "    </tr>\n",
              "    <tr>\n",
              "      <th>79995</th>\n",
              "      <td>1</td>\n",
              "      <td>@USER @USER diolch yn fawr am ein diweddaru, r...</td>\n",
              "    </tr>\n",
              "    <tr>\n",
              "      <th>79996</th>\n",
              "      <td>1</td>\n",
              "      <td>@USER @USER @USER diolch! Digon o opsiynne felly!</td>\n",
              "    </tr>\n",
              "    <tr>\n",
              "      <th>79997</th>\n",
              "      <td>0</td>\n",
              "      <td>mor hungover heddiw 🔫</td>\n",
              "    </tr>\n",
              "    <tr>\n",
              "      <th>79998</th>\n",
              "      <td>1</td>\n",
              "      <td>@USER eidiaaaal, awni dydd llun nesa ia? Y air...</td>\n",
              "    </tr>\n",
              "    <tr>\n",
              "      <th>79999</th>\n",
              "      <td>0</td>\n",
              "      <td>@USER ahaha, aino maisho mynadd! Erm o be dwin...</td>\n",
              "    </tr>\n",
              "  </tbody>\n",
              "</table>\n",
              "<p>80000 rows × 2 columns</p>\n",
              "</div>\n",
              "      <button class=\"colab-df-convert\" onclick=\"convertToInteractive('df-2bbd6f4e-88ee-42df-9bec-0e570c293572')\"\n",
              "              title=\"Convert this dataframe to an interactive table.\"\n",
              "              style=\"display:none;\">\n",
              "        \n",
              "  <svg xmlns=\"http://www.w3.org/2000/svg\" height=\"24px\"viewBox=\"0 0 24 24\"\n",
              "       width=\"24px\">\n",
              "    <path d=\"M0 0h24v24H0V0z\" fill=\"none\"/>\n",
              "    <path d=\"M18.56 5.44l.94 2.06.94-2.06 2.06-.94-2.06-.94-.94-2.06-.94 2.06-2.06.94zm-11 1L8.5 8.5l.94-2.06 2.06-.94-2.06-.94L8.5 2.5l-.94 2.06-2.06.94zm10 10l.94 2.06.94-2.06 2.06-.94-2.06-.94-.94-2.06-.94 2.06-2.06.94z\"/><path d=\"M17.41 7.96l-1.37-1.37c-.4-.4-.92-.59-1.43-.59-.52 0-1.04.2-1.43.59L10.3 9.45l-7.72 7.72c-.78.78-.78 2.05 0 2.83L4 21.41c.39.39.9.59 1.41.59.51 0 1.02-.2 1.41-.59l7.78-7.78 2.81-2.81c.8-.78.8-2.07 0-2.86zM5.41 20L4 18.59l7.72-7.72 1.47 1.35L5.41 20z\"/>\n",
              "  </svg>\n",
              "      </button>\n",
              "      \n",
              "  <style>\n",
              "    .colab-df-container {\n",
              "      display:flex;\n",
              "      flex-wrap:wrap;\n",
              "      gap: 12px;\n",
              "    }\n",
              "\n",
              "    .colab-df-convert {\n",
              "      background-color: #E8F0FE;\n",
              "      border: none;\n",
              "      border-radius: 50%;\n",
              "      cursor: pointer;\n",
              "      display: none;\n",
              "      fill: #1967D2;\n",
              "      height: 32px;\n",
              "      padding: 0 0 0 0;\n",
              "      width: 32px;\n",
              "    }\n",
              "\n",
              "    .colab-df-convert:hover {\n",
              "      background-color: #E2EBFA;\n",
              "      box-shadow: 0px 1px 2px rgba(60, 64, 67, 0.3), 0px 1px 3px 1px rgba(60, 64, 67, 0.15);\n",
              "      fill: #174EA6;\n",
              "    }\n",
              "\n",
              "    [theme=dark] .colab-df-convert {\n",
              "      background-color: #3B4455;\n",
              "      fill: #D2E3FC;\n",
              "    }\n",
              "\n",
              "    [theme=dark] .colab-df-convert:hover {\n",
              "      background-color: #434B5C;\n",
              "      box-shadow: 0px 1px 3px 1px rgba(0, 0, 0, 0.15);\n",
              "      filter: drop-shadow(0px 1px 2px rgba(0, 0, 0, 0.3));\n",
              "      fill: #FFFFFF;\n",
              "    }\n",
              "  </style>\n",
              "\n",
              "      <script>\n",
              "        const buttonEl =\n",
              "          document.querySelector('#df-2bbd6f4e-88ee-42df-9bec-0e570c293572 button.colab-df-convert');\n",
              "        buttonEl.style.display =\n",
              "          google.colab.kernel.accessAllowed ? 'block' : 'none';\n",
              "\n",
              "        async function convertToInteractive(key) {\n",
              "          const element = document.querySelector('#df-2bbd6f4e-88ee-42df-9bec-0e570c293572');\n",
              "          const dataTable =\n",
              "            await google.colab.kernel.invokeFunction('convertToInteractive',\n",
              "                                                     [key], {});\n",
              "          if (!dataTable) return;\n",
              "\n",
              "          const docLinkHtml = 'Like what you see? Visit the ' +\n",
              "            '<a target=\"_blank\" href=https://colab.research.google.com/notebooks/data_table.ipynb>data table notebook</a>'\n",
              "            + ' to learn more about interactive tables.';\n",
              "          element.innerHTML = '';\n",
              "          dataTable['output_type'] = 'display_data';\n",
              "          await google.colab.output.renderOutput(dataTable, element);\n",
              "          const docLink = document.createElement('div');\n",
              "          docLink.innerHTML = docLinkHtml;\n",
              "          element.appendChild(docLink);\n",
              "        }\n",
              "      </script>\n",
              "    </div>\n",
              "  </div>\n",
              "  "
            ]
          },
          "metadata": {},
          "execution_count": 5
        }
      ]
    },
    {
      "cell_type": "code",
      "source": [
        "data=train_df[['Text','Target']]\n",
        "data['Text']"
      ],
      "metadata": {
        "colab": {
          "base_uri": "https://localhost:8080/"
        },
        "id": "xr1L0Fi_Xn8S",
        "outputId": "356c8971-3a9e-482a-f9db-b9ee71070fc0"
      },
      "execution_count": 6,
      "outputs": [
        {
          "output_type": "execute_result",
          "data": {
            "text/plain": [
              "0        @USER @USER a sicrhau bod mwy o arian poced 'd...\n",
              "1        Parti Dolig da gyda tim swyddfa canolog @USER ...\n",
              "2                     @USER yeaah ma fe yn wir. ( oh well.\n",
              "3                     @USER hahaha idk. 3am oedd y bws ti?\n",
              "4                            @USER dwim yn gal llun ohoni?\n",
              "                               ...                        \n",
              "79995    @USER @USER diolch yn fawr am ein diweddaru, r...\n",
              "79996    @USER @USER @USER diolch! Digon o opsiynne felly!\n",
              "79997                                mor hungover heddiw 🔫\n",
              "79998    @USER eidiaaaal, awni dydd llun nesa ia? Y air...\n",
              "79999    @USER ahaha, aino maisho mynadd! Erm o be dwin...\n",
              "Name: Text, Length: 80000, dtype: object"
            ]
          },
          "metadata": {},
          "execution_count": 6
        }
      ]
    },
    {
      "cell_type": "code",
      "source": [
        "data_pos = data[data['Target'] == 1]\n",
        "data_neg = data[data['Target'] == 0]"
      ],
      "metadata": {
        "id": "ZSYZtYG2XzTB"
      },
      "execution_count": 7,
      "outputs": []
    },
    {
      "cell_type": "code",
      "source": [
        "df = pd.concat([data_pos, data_neg])\n",
        "df.head()"
      ],
      "metadata": {
        "colab": {
          "base_uri": "https://localhost:8080/",
          "height": 206
        },
        "id": "Ezyg5aIWYB7s",
        "outputId": "16208bf6-d13b-46bc-c589-17f4707d13ff"
      },
      "execution_count": 8,
      "outputs": [
        {
          "output_type": "execute_result",
          "data": {
            "text/plain": [
              "                                                 Text  Target\n",
              "1   Parti Dolig da gyda tim swyddfa canolog @USER ...       1\n",
              "3                @USER hahaha idk. 3am oedd y bws ti?       1\n",
              "6   @USER Diolch! Dweud wrtho Manon fi wedi txto h...       1\n",
              "8   @USER mor browd, fe fyddai yn dangos ti faint ...       1\n",
              "10  @USER ond paid a meiddio darllen y tweet yma a...       1"
            ],
            "text/html": [
              "\n",
              "  <div id=\"df-a9d228c8-e64d-400a-bfff-a937fc24c049\">\n",
              "    <div class=\"colab-df-container\">\n",
              "      <div>\n",
              "<style scoped>\n",
              "    .dataframe tbody tr th:only-of-type {\n",
              "        vertical-align: middle;\n",
              "    }\n",
              "\n",
              "    .dataframe tbody tr th {\n",
              "        vertical-align: top;\n",
              "    }\n",
              "\n",
              "    .dataframe thead th {\n",
              "        text-align: right;\n",
              "    }\n",
              "</style>\n",
              "<table border=\"1\" class=\"dataframe\">\n",
              "  <thead>\n",
              "    <tr style=\"text-align: right;\">\n",
              "      <th></th>\n",
              "      <th>Text</th>\n",
              "      <th>Target</th>\n",
              "    </tr>\n",
              "  </thead>\n",
              "  <tbody>\n",
              "    <tr>\n",
              "      <th>1</th>\n",
              "      <td>Parti Dolig da gyda tim swyddfa canolog @USER ...</td>\n",
              "      <td>1</td>\n",
              "    </tr>\n",
              "    <tr>\n",
              "      <th>3</th>\n",
              "      <td>@USER hahaha idk. 3am oedd y bws ti?</td>\n",
              "      <td>1</td>\n",
              "    </tr>\n",
              "    <tr>\n",
              "      <th>6</th>\n",
              "      <td>@USER Diolch! Dweud wrtho Manon fi wedi txto h...</td>\n",
              "      <td>1</td>\n",
              "    </tr>\n",
              "    <tr>\n",
              "      <th>8</th>\n",
              "      <td>@USER mor browd, fe fyddai yn dangos ti faint ...</td>\n",
              "      <td>1</td>\n",
              "    </tr>\n",
              "    <tr>\n",
              "      <th>10</th>\n",
              "      <td>@USER ond paid a meiddio darllen y tweet yma a...</td>\n",
              "      <td>1</td>\n",
              "    </tr>\n",
              "  </tbody>\n",
              "</table>\n",
              "</div>\n",
              "      <button class=\"colab-df-convert\" onclick=\"convertToInteractive('df-a9d228c8-e64d-400a-bfff-a937fc24c049')\"\n",
              "              title=\"Convert this dataframe to an interactive table.\"\n",
              "              style=\"display:none;\">\n",
              "        \n",
              "  <svg xmlns=\"http://www.w3.org/2000/svg\" height=\"24px\"viewBox=\"0 0 24 24\"\n",
              "       width=\"24px\">\n",
              "    <path d=\"M0 0h24v24H0V0z\" fill=\"none\"/>\n",
              "    <path d=\"M18.56 5.44l.94 2.06.94-2.06 2.06-.94-2.06-.94-.94-2.06-.94 2.06-2.06.94zm-11 1L8.5 8.5l.94-2.06 2.06-.94-2.06-.94L8.5 2.5l-.94 2.06-2.06.94zm10 10l.94 2.06.94-2.06 2.06-.94-2.06-.94-.94-2.06-.94 2.06-2.06.94z\"/><path d=\"M17.41 7.96l-1.37-1.37c-.4-.4-.92-.59-1.43-.59-.52 0-1.04.2-1.43.59L10.3 9.45l-7.72 7.72c-.78.78-.78 2.05 0 2.83L4 21.41c.39.39.9.59 1.41.59.51 0 1.02-.2 1.41-.59l7.78-7.78 2.81-2.81c.8-.78.8-2.07 0-2.86zM5.41 20L4 18.59l7.72-7.72 1.47 1.35L5.41 20z\"/>\n",
              "  </svg>\n",
              "      </button>\n",
              "      \n",
              "  <style>\n",
              "    .colab-df-container {\n",
              "      display:flex;\n",
              "      flex-wrap:wrap;\n",
              "      gap: 12px;\n",
              "    }\n",
              "\n",
              "    .colab-df-convert {\n",
              "      background-color: #E8F0FE;\n",
              "      border: none;\n",
              "      border-radius: 50%;\n",
              "      cursor: pointer;\n",
              "      display: none;\n",
              "      fill: #1967D2;\n",
              "      height: 32px;\n",
              "      padding: 0 0 0 0;\n",
              "      width: 32px;\n",
              "    }\n",
              "\n",
              "    .colab-df-convert:hover {\n",
              "      background-color: #E2EBFA;\n",
              "      box-shadow: 0px 1px 2px rgba(60, 64, 67, 0.3), 0px 1px 3px 1px rgba(60, 64, 67, 0.15);\n",
              "      fill: #174EA6;\n",
              "    }\n",
              "\n",
              "    [theme=dark] .colab-df-convert {\n",
              "      background-color: #3B4455;\n",
              "      fill: #D2E3FC;\n",
              "    }\n",
              "\n",
              "    [theme=dark] .colab-df-convert:hover {\n",
              "      background-color: #434B5C;\n",
              "      box-shadow: 0px 1px 3px 1px rgba(0, 0, 0, 0.15);\n",
              "      filter: drop-shadow(0px 1px 2px rgba(0, 0, 0, 0.3));\n",
              "      fill: #FFFFFF;\n",
              "    }\n",
              "  </style>\n",
              "\n",
              "      <script>\n",
              "        const buttonEl =\n",
              "          document.querySelector('#df-a9d228c8-e64d-400a-bfff-a937fc24c049 button.colab-df-convert');\n",
              "        buttonEl.style.display =\n",
              "          google.colab.kernel.accessAllowed ? 'block' : 'none';\n",
              "\n",
              "        async function convertToInteractive(key) {\n",
              "          const element = document.querySelector('#df-a9d228c8-e64d-400a-bfff-a937fc24c049');\n",
              "          const dataTable =\n",
              "            await google.colab.kernel.invokeFunction('convertToInteractive',\n",
              "                                                     [key], {});\n",
              "          if (!dataTable) return;\n",
              "\n",
              "          const docLinkHtml = 'Like what you see? Visit the ' +\n",
              "            '<a target=\"_blank\" href=https://colab.research.google.com/notebooks/data_table.ipynb>data table notebook</a>'\n",
              "            + ' to learn more about interactive tables.';\n",
              "          element.innerHTML = '';\n",
              "          dataTable['output_type'] = 'display_data';\n",
              "          await google.colab.output.renderOutput(dataTable, element);\n",
              "          const docLink = document.createElement('div');\n",
              "          docLink.innerHTML = docLinkHtml;\n",
              "          element.appendChild(docLink);\n",
              "        }\n",
              "      </script>\n",
              "    </div>\n",
              "  </div>\n",
              "  "
            ]
          },
          "metadata": {},
          "execution_count": 8
        }
      ]
    },
    {
      "cell_type": "code",
      "source": [
        "df['Text']=df['Text'].str.lower()\n",
        "df['Text'].tail()"
      ],
      "metadata": {
        "colab": {
          "base_uri": "https://localhost:8080/"
        },
        "id": "qBppTNJeYIs9",
        "outputId": "bc7f567a-aeea-4458-9fd0-d54f1ba574d9"
      },
      "execution_count": 9,
      "outputs": [
        {
          "output_type": "execute_result",
          "data": {
            "text/plain": [
              "79987    @user fina fyd! ti'n sgol fory? sgenai'm mynad...\n",
              "79988    @user all white wash, a playsuit gwyn fo tiny ...\n",
              "79992                         @user cymryd un fi lawr fory\n",
              "79997                                mor hungover heddiw 🔫\n",
              "79999    @user ahaha, aino maisho mynadd! erm o be dwin...\n",
              "Name: Text, dtype: object"
            ]
          },
          "metadata": {},
          "execution_count": 9
        }
      ]
    },
    {
      "cell_type": "code",
      "source": [
        "#This is to remove the @user string. This piece of code is taken from https://www.analyticsvidhya.com/blog/2021/06/twitter-sentiment-analysis-a-nlp-use-case-for-beginners/\n",
        "pattern = ['@USER','@user','user']\n",
        "def cleaning_pattern(text):\n",
        "    return \" \".join([word for word in str(text).split() if word not in pattern])\n",
        "df['Text'] = df['Text'].apply(lambda text: cleaning_pattern(text))\n",
        "df['Text'].head()"
      ],
      "metadata": {
        "colab": {
          "base_uri": "https://localhost:8080/"
        },
        "id": "RQy4HCpFYPSh",
        "outputId": "fd0cbcc6-bdc8-411e-fd60-dc43ca4464e2"
      },
      "execution_count": 10,
      "outputs": [
        {
          "output_type": "execute_result",
          "data": {
            "text/plain": [
              "1     parti dolig da gyda tim swyddfa canolog ty gwy...\n",
              "3                        hahaha idk. 3am oedd y bws ti?\n",
              "6          diolch! dweud wrtho manon fi wedi txto hi! x\n",
              "8     mor browd, fe fyddai yn dangos ti faint mor aw...\n",
              "10    ond paid a meiddio darllen y tweet yma allan a...\n",
              "Name: Text, dtype: object"
            ]
          },
          "metadata": {},
          "execution_count": 10
        }
      ]
    },
    {
      "cell_type": "code",
      "source": [
        "#to remove punctuation\n",
        "import string\n",
        "english_punctuations = string.punctuation\n",
        "punctuations_list = english_punctuations\n",
        "def cleaning_punctuations(text):\n",
        "    translator = str.maketrans('', '', punctuations_list)\n",
        "    return text.translate(translator)\n",
        "df['Text']= df['Text'].apply(lambda x: cleaning_punctuations(x))\n",
        "df['Text'].tail()"
      ],
      "metadata": {
        "colab": {
          "base_uri": "https://localhost:8080/"
        },
        "id": "iwRWM1tzYhVs",
        "outputId": "aabb5d54-f60c-4b43-a4cc-9a3258922b4f"
      },
      "execution_count": 11,
      "outputs": [
        {
          "output_type": "execute_result",
          "data": {
            "text/plain": [
              "79987     fina fyd tin sgol fory sgenaim mynadd o gwbwl de\n",
              "79988    all white wash a playsuit gwyn fo tiny bit o p...\n",
              "79992                               cymryd un fi lawr fory\n",
              "79997                                mor hungover heddiw 🔫\n",
              "79999    ahaha aino maisho mynadd erm o be dwin wbod ia...\n",
              "Name: Text, dtype: object"
            ]
          },
          "metadata": {},
          "execution_count": 11
        }
      ]
    },
    {
      "cell_type": "code",
      "source": [
        "#remove redudant words\n",
        "def cleaning_redundant_words(text):\n",
        "    return re.sub(r'(.)1+', r'1', text)\n",
        "df['Text'] = df['Text'].apply(lambda x: cleaning_redundant_words(x))\n",
        "df['Text'].tail()"
      ],
      "metadata": {
        "colab": {
          "base_uri": "https://localhost:8080/"
        },
        "id": "GWhFj0jKYowj",
        "outputId": "c56f701c-fff5-4405-d621-515022f17471"
      },
      "execution_count": 30,
      "outputs": [
        {
          "output_type": "execute_result",
          "data": {
            "text/plain": [
              "79987     fina fyd tin sgol fory sgenaim mynadd o gwbwl de\n",
              "79988    all white wash a playsuit gwyn fo tiny bit o p...\n",
              "79992                               cymryd un fi lawr fory\n",
              "79997                                 mor hungover heddiw \n",
              "79999    ahaha aino maisho mynadd erm o be dwin wbod ia...\n",
              "Name: Text, dtype: object"
            ]
          },
          "metadata": {},
          "execution_count": 30
        }
      ]
    },
    {
      "cell_type": "code",
      "source": [
        "#remove numbers\n",
        "def cleaning_numerical_data(data):\n",
        "    return re.sub('[0-9]+', '', data)\n",
        "df['Text'] = df['Text'].apply(lambda x: cleaning_numerical_data(x))\n",
        "df['Text'].tail()"
      ],
      "metadata": {
        "colab": {
          "base_uri": "https://localhost:8080/"
        },
        "id": "kX4naSA4Yvkq",
        "outputId": "b5ec261a-0227-4460-8071-3b8f8a18ccf6"
      },
      "execution_count": 13,
      "outputs": [
        {
          "output_type": "execute_result",
          "data": {
            "text/plain": [
              "79987     fina fyd tin sgol fory sgenaim mynadd o gwbwl de\n",
              "79988    all white wash a playsuit gwyn fo tiny bit o p...\n",
              "79992                               cymryd un fi lawr fory\n",
              "79997                                mor hungover heddiw 🔫\n",
              "79999    ahaha aino maisho mynadd erm o be dwin wbod ia...\n",
              "Name: Text, dtype: object"
            ]
          },
          "metadata": {},
          "execution_count": 13
        }
      ]
    },
    {
      "cell_type": "code",
      "source": [
        "#delete the emoticons. we used the emot library to remove them. This piece of code was taken from https://medium.com/geekculture/text-preprocessing-how-to-handle-emoji-emoticon-641bbfa6e9e7 \n",
        "#it was modified according to our use case only.\n",
        "import re\n",
        "def delete_emoji(string):\n",
        "    emoji_pattern = re.compile(\"[\"\n",
        "                           u\"\\U0001F600-\\U0001F64F\" \n",
        "                           u\"\\U00002702-\\U000027B0\"\n",
        "                           u\"\\U000024C2-\\U0001F251\"\n",
        "                           \"]+\", flags=re.UNICODE)\n",
        "    return emoji_pattern.sub(r'', string)"
      ],
      "metadata": {
        "id": "_aWvxeCZZf8j"
      },
      "execution_count": 37,
      "outputs": []
    },
    {
      "cell_type": "code",
      "source": [
        "df['Text']=df['Text'].apply(delete_emoji)"
      ],
      "metadata": {
        "id": "-mzaQsgeZjeG"
      },
      "execution_count": 38,
      "outputs": []
    },
    {
      "cell_type": "code",
      "source": [
        "delete_emoji(df['Text'][79997])"
      ],
      "metadata": {
        "colab": {
          "base_uri": "https://localhost:8080/",
          "height": 35
        },
        "id": "BV61Boa8Z2k3",
        "outputId": "44c8d891-05fb-49c1-a356-792cb36b4c34"
      },
      "execution_count": 39,
      "outputs": [
        {
          "output_type": "execute_result",
          "data": {
            "text/plain": [
              "'mor hungover heddiw '"
            ],
            "application/vnd.google.colaboratory.intrinsic+json": {
              "type": "string"
            }
          },
          "metadata": {},
          "execution_count": 39
        }
      ]
    },
    {
      "cell_type": "code",
      "source": [
        "X=df.Text\n",
        "y=df.Target\n",
        "X"
      ],
      "metadata": {
        "colab": {
          "base_uri": "https://localhost:8080/"
        },
        "id": "VgRj5nRxbH0Y",
        "outputId": "757c2b2b-506e-430c-b8d0-bc8b647baf01"
      },
      "execution_count": 18,
      "outputs": [
        {
          "output_type": "execute_result",
          "data": {
            "text/plain": [
              "1        parti dolig da gyda tim swyddfa canolog ty gwy...\n",
              "3                              hahaha idk am oedd y bws ti\n",
              "6               diolch dweud wrtho manon fi wedi txto hi x\n",
              "8        mor browd fe fyddai yn dangos ti faint mor awe...\n",
              "10       ond paid a meiddio darllen y tweet yma allan a...\n",
              "                               ...                        \n",
              "79987     fina fyd tin sgol fory sgenaim mynadd o gwbwl de\n",
              "79988    all white wash a playsuit gwyn fo tiny bit o p...\n",
              "79992                               cymryd un fi lawr fory\n",
              "79997                                 mor hungover heddiw \n",
              "79999    ahaha aino maisho mynadd erm o be dwin wbod ia...\n",
              "Name: Text, Length: 80000, dtype: object"
            ]
          },
          "metadata": {},
          "execution_count": 18
        }
      ]
    },
    {
      "cell_type": "code",
      "source": [
        "#Splitting the dataset into training, testing and validation dataset\n",
        "from sklearn.model_selection import train_test_split\n",
        "X_train, X_test, y_train, y_test = train_test_split(X,y,test_size = 0.20, random_state =42)"
      ],
      "metadata": {
        "id": "CgQWEt5Gbm_8"
      },
      "execution_count": 19,
      "outputs": []
    },
    {
      "cell_type": "code",
      "source": [
        "#to convert into sparse matrix format for input\n",
        "vectoriser = TfidfVectorizer(ngram_range=(1,2), max_features=500000)\n",
        "vectoriser.fit(X_train)\n",
        "print('No. of feature_words: ', len(vectoriser.get_feature_names()))"
      ],
      "metadata": {
        "id": "54VbUCbxbAXk",
        "colab": {
          "base_uri": "https://localhost:8080/"
        },
        "outputId": "1a596ed7-d5eb-4552-b5de-a1d2a57ff297"
      },
      "execution_count": 20,
      "outputs": [
        {
          "output_type": "stream",
          "name": "stderr",
          "text": [
            "/usr/local/lib/python3.7/dist-packages/sklearn/utils/deprecation.py:87: FutureWarning: Function get_feature_names is deprecated; get_feature_names is deprecated in 1.0 and will be removed in 1.2. Please use get_feature_names_out instead.\n",
            "  warnings.warn(msg, category=FutureWarning)\n"
          ]
        },
        {
          "output_type": "stream",
          "name": "stdout",
          "text": [
            "No. of feature_words:  447693\n"
          ]
        }
      ]
    },
    {
      "cell_type": "code",
      "source": [
        "#vectorising the training and testing data\n",
        "X_train = vectoriser.transform(X_train)\n",
        "X_test  = vectoriser.transform(X_test)"
      ],
      "metadata": {
        "id": "CMrjI9w-cDxc"
      },
      "execution_count": 24,
      "outputs": []
    },
    {
      "cell_type": "code",
      "source": [
        "#model training\n",
        "from sklearn.naive_bayes import BernoulliNB\n",
        "BNBmodel = BernoulliNB()\n",
        "BNBmodel.fit(X_train, y_train)\n",
        "y_pred1 = BNBmodel.predict(X_test)"
      ],
      "metadata": {
        "id": "jEH621qncFh8"
      },
      "execution_count": 25,
      "outputs": []
    },
    {
      "cell_type": "code",
      "source": [
        "#printing the accuracy\n",
        "from sklearn.metrics import accuracy_score\n",
        "print(accuracy_score(y_test, y_pred1))"
      ],
      "metadata": {
        "colab": {
          "base_uri": "https://localhost:8080/"
        },
        "id": "MEGfhCu9cTLO",
        "outputId": "61e9ec0c-feda-43c4-b8cb-74fa18b1638b"
      },
      "execution_count": 26,
      "outputs": [
        {
          "output_type": "stream",
          "name": "stdout",
          "text": [
            "0.7411875\n"
          ]
        }
      ]
    },
    {
      "cell_type": "code",
      "source": [
        "def predict_anything_goes(tweet):\n",
        "  # do something complicated here\n",
        "  tweet = cleaning_pattern(tweet)\n",
        "  tweet = cleaning_punctuations(tweet)\n",
        "  tweet = cleaning_redundant_words(tweet)\n",
        "  tweet = cleaning_numerical_data(tweet)\n",
        "  tweet = vectoriser.transform([tweet])\n",
        "  y_pred = BNBmodel.predict(tweet)\n",
        "  return y_pred.any()"
      ],
      "metadata": {
        "id": "CYRdwQFiPBPa"
      },
      "execution_count": 35,
      "outputs": []
    },
    {
      "cell_type": "code",
      "source": [
        "def evaluate():\n",
        "  total = 0\n",
        "  correct_from_scratch = 0\n",
        "  correct_anything_goes = 0\n",
        "  testfile = open('test.tsv', 'r')\n",
        "  for line in testfile:\n",
        "    total += 1\n",
        "    pieces = line.rstrip(\"\\n\").split(\"\\t\")\n",
        "    #if predict_from_scratch(pieces[1]) == int(pieces[0]):\n",
        "     # correct_from_scratch += 1\n",
        "    if predict_anything_goes(pieces[1]) == int(pieces[0]):\n",
        "      correct_anything_goes += 1\n",
        "  return (correct_from_scratch/total, correct_anything_goes/total)"
      ],
      "metadata": {
        "id": "ZO1VR0rJPRbL"
      },
      "execution_count": 36,
      "outputs": []
    },
    {
      "cell_type": "code",
      "source": [
        "#test set prediction\n",
        "evaluate()"
      ],
      "metadata": {
        "id": "aDjFKzyjPWKO",
        "colab": {
          "base_uri": "https://localhost:8080/"
        },
        "outputId": "10a8ed0c-a718-411a-edbf-79acd6a7834b"
      },
      "execution_count": 29,
      "outputs": [
        {
          "output_type": "execute_result",
          "data": {
            "text/plain": [
              "(0.0, 0.8254)"
            ]
          },
          "metadata": {},
          "execution_count": 29
        }
      ]
    }
  ]
}